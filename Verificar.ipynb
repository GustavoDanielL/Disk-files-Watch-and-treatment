{
 "cells": [
  {
   "cell_type": "code",
   "execution_count": 3,
   "metadata": {},
   "outputs": [
    {
     "name": "stdout",
     "output_type": "stream",
     "text": [
      "Novo arquivo X:\\ARQUIVOS\\3810-GTSS\\Relatorios Viasat\\2023-Set\\TelebrasHourlyUsage-v2-20230920.csv detectado. Verificando...\n",
      "Problema encontrado no arquivo X:\\ARQUIVOS\\3810-GTSS\\Relatorios Viasat\\2023-Set\\TelebrasHourlyUsage-v2-20230920.csv e registrado em \"arquivos_com_problemas.txt\".\n",
      "Novo arquivo X:\\ARQUIVOS\\3810-GTSS\\Relatorios Viasat\\2023-Set\\TelebrasHourlyUsage-v2-20230923.csv detectado. Verificando...\n",
      "Problema encontrado no arquivo X:\\ARQUIVOS\\3810-GTSS\\Relatorios Viasat\\2023-Set\\TelebrasHourlyUsage-v2-20230923.csv e registrado em \"arquivos_com_problemas.txt\".\n",
      "Novo arquivo X:\\ARQUIVOS\\3810-GTSS\\Relatorios Viasat\\2023-Set\\TelebrasHourlyUsage-v2-20230924.csv detectado. Verificando...\n",
      "Problema encontrado no arquivo X:\\ARQUIVOS\\3810-GTSS\\Relatorios Viasat\\2023-Set\\TelebrasHourlyUsage-v2-20230924.csv e registrado em \"arquivos_com_problemas.txt\".\n",
      "Novo arquivo X:\\ARQUIVOS\\3810-GTSS\\Relatorios Viasat\\2023-Set\\TelebrasHourlyUsage-v2-20230922.csv detectado. Verificando...\n",
      "Problema encontrado no arquivo X:\\ARQUIVOS\\3810-GTSS\\Relatorios Viasat\\2023-Set\\TelebrasHourlyUsage-v2-20230922.csv e registrado em \"arquivos_com_problemas.txt\".\n",
      "Novo arquivo X:\\ARQUIVOS\\3810-GTSS\\Relatorios Viasat\\2023-Set\\TelebrasHourlyUsage-v2-20230919.csv detectado. Verificando...\n",
      "Problema encontrado no arquivo X:\\ARQUIVOS\\3810-GTSS\\Relatorios Viasat\\2023-Set\\TelebrasHourlyUsage-v2-20230919.csv e registrado em \"arquivos_com_problemas.txt\".\n",
      "Novo arquivo X:\\ARQUIVOS\\3810-GTSS\\Relatorios Viasat\\2023-Set\\TelebrasHourlyUsage-v2-20230921.csv detectado. Verificando...\n",
      "Problema encontrado no arquivo X:\\ARQUIVOS\\3810-GTSS\\Relatorios Viasat\\2023-Set\\TelebrasHourlyUsage-v2-20230921.csv e registrado em \"arquivos_com_problemas.txt\".\n"
     ]
    }
   ],
   "source": [
    "import os\n",
    "import time\n",
    "from watchdog.observers import Observer\n",
    "from watchdog.events import FileSystemEventHandler\n",
    "import pandas as pd\n",
    "\n",
    "# Diretório que você deseja monitorar\n",
    "diretorio_monitorado = 'X:\\\\ARQUIVOS\\\\3810-GTSS\\\\Relatorios Viasat\\\\2023-Set\\\\'\n",
    "\n",
    "# Iniciais dos nomes de arquivo que você deseja monitorar\n",
    "iniciais_arquivos_monitorados = ['TelebrasHourlyUsage-v2-']  # Adicione suas iniciais desejadas\n",
    "\n",
    "# Diretório para registrar os resultados\n",
    "diretorio_resultados = 'C:\\\\Users\\\\gustavo.costa\\\\Desktop\\\\blablaasd'\n",
    "\n",
    "# Função para verificar o arquivo CSV\n",
    "def verificar_arquivo_csv(nome_arquivo):\n",
    "    try:\n",
    "        # Carrega o arquivo CSV em um DataFrame usando o pandas\n",
    "        df = pd.read_csv(os.path.join(diretorio_monitorado, nome_arquivo))\n",
    "        \n",
    "        # Verifica se há problemas (por exemplo, colunas vazias)\n",
    "        # Adicione suas verificações personalizadas aqui\n",
    "        \n",
    "        return None  # Nenhum problema encontrado\n",
    "    \n",
    "    except Exception as e:\n",
    "        return f'Problema no arquivo {nome_arquivo}: {str(e)}\\n'\n",
    "\n",
    "# Função para lidar com eventos de arquivo\n",
    "class MeuHandler(FileSystemEventHandler):\n",
    "    def on_created(self, event):\n",
    "        if event.is_directory:\n",
    "            return  # Ignorar diretórios\n",
    "        \n",
    "        nome_arquivo = os.path.basename(event.src_path)\n",
    "        for inicial in iniciais_arquivos_monitorados:\n",
    "            if nome_arquivo.startswith(inicial):\n",
    "                print(f'Novo arquivo {event.src_path} detectado. Verificando...')\n",
    "                resultado = verificar_arquivo_csv(nome_arquivo)\n",
    "                if resultado:\n",
    "                    with open(os.path.join(diretorio_resultados, 'arquivos_com_problemas.txt'), 'a') as arquivo_saida:\n",
    "                        arquivo_saida.write(resultado)\n",
    "                    print(f'Problema encontrado no arquivo {event.src_path} e registrado em \"arquivos_com_problemas.txt\".')\n",
    "                else:\n",
    "                    print(f'Nenhum problema encontrado no arquivo {event.src_path}.')\n",
    "\n",
    "# Inicializa o observador e o manipulador\n",
    "observer = Observer()\n",
    "handler = MeuHandler()\n",
    "observer.schedule(handler, path=diretorio_monitorado, recursive=False)\n",
    "\n",
    "# Inicia a observação em segundo plano\n",
    "observer.start()\n",
    "\n",
    "try:\n",
    "    while True:\n",
    "        time.sleep(1)\n",
    "except KeyboardInterrupt:\n",
    "    observer.stop()\n",
    "\n",
    "# Aguarda a finalização do observador\n",
    "observer.join()\n"
   ]
  },
  {
   "cell_type": "code",
   "execution_count": 16,
   "metadata": {},
   "outputs": [
    {
     "ename": "AttributeError",
     "evalue": "'float' object has no attribute 'replace'",
     "output_type": "error",
     "traceback": [
      "\u001b[1;31m---------------------------------------------------------------------------\u001b[0m",
      "\u001b[1;31mAttributeError\u001b[0m                            Traceback (most recent call last)",
      "\u001b[1;32mc:\\Users\\gustavo.costa\\Desktop\\Verificador\\Verificar.ipynb Cell 2\u001b[0m line \u001b[0;36m1\n\u001b[0;32m      <a href='vscode-notebook-cell:/c%3A/Users/gustavo.costa/Desktop/Verificador/Verificar.ipynb#W1sZmlsZQ%3D%3D?line=7'>8</a>\u001b[0m     \u001b[39mreturn\u001b[39;00m \u001b[39mfloat\u001b[39m(value)\n\u001b[0;32m     <a href='vscode-notebook-cell:/c%3A/Users/gustavo.costa/Desktop/Verificador/Verificar.ipynb#W1sZmlsZQ%3D%3D?line=9'>10</a>\u001b[0m \u001b[39m# Aplicar a função à coluna rate_score\u001b[39;00m\n\u001b[1;32m---> <a href='vscode-notebook-cell:/c%3A/Users/gustavo.costa/Desktop/Verificador/Verificar.ipynb#W1sZmlsZQ%3D%3D?line=10'>11</a>\u001b[0m df[\u001b[39m'\u001b[39m\u001b[39mrate_score\u001b[39m\u001b[39m'\u001b[39m] \u001b[39m=\u001b[39m df[\u001b[39m'\u001b[39;49m\u001b[39mrate_score\u001b[39;49m\u001b[39m'\u001b[39;49m]\u001b[39m.\u001b[39;49mapply(convert_rate_score)\n\u001b[0;32m     <a href='vscode-notebook-cell:/c%3A/Users/gustavo.costa/Desktop/Verificador/Verificar.ipynb#W1sZmlsZQ%3D%3D?line=12'>13</a>\u001b[0m \u001b[39m# Filtrar as linhas com rate_score maior que 12,999999\u001b[39;00m\n\u001b[0;32m     <a href='vscode-notebook-cell:/c%3A/Users/gustavo.costa/Desktop/Verificador/Verificar.ipynb#W1sZmlsZQ%3D%3D?line=13'>14</a>\u001b[0m result \u001b[39m=\u001b[39m df[df[\u001b[39m'\u001b[39m\u001b[39mrate_score\u001b[39m\u001b[39m'\u001b[39m] \u001b[39m>\u001b[39m \u001b[39m12.999999\u001b[39m]\n",
      "File \u001b[1;32mc:\\Users\\gustavo.costa\\AppData\\Local\\Programs\\Python\\Python311\\Lib\\site-packages\\pandas\\core\\series.py:4765\u001b[0m, in \u001b[0;36mSeries.apply\u001b[1;34m(self, func, convert_dtype, args, by_row, **kwargs)\u001b[0m\n\u001b[0;32m   4625\u001b[0m \u001b[39mdef\u001b[39;00m \u001b[39mapply\u001b[39m(\n\u001b[0;32m   4626\u001b[0m     \u001b[39mself\u001b[39m,\n\u001b[0;32m   4627\u001b[0m     func: AggFuncType,\n\u001b[1;32m   (...)\u001b[0m\n\u001b[0;32m   4632\u001b[0m     \u001b[39m*\u001b[39m\u001b[39m*\u001b[39mkwargs,\n\u001b[0;32m   4633\u001b[0m ) \u001b[39m-\u001b[39m\u001b[39m>\u001b[39m DataFrame \u001b[39m|\u001b[39m Series:\n\u001b[0;32m   4634\u001b[0m \u001b[39m    \u001b[39m\u001b[39m\"\"\"\u001b[39;00m\n\u001b[0;32m   4635\u001b[0m \u001b[39m    Invoke function on values of Series.\u001b[39;00m\n\u001b[0;32m   4636\u001b[0m \n\u001b[1;32m   (...)\u001b[0m\n\u001b[0;32m   4756\u001b[0m \u001b[39m    dtype: float64\u001b[39;00m\n\u001b[0;32m   4757\u001b[0m \u001b[39m    \"\"\"\u001b[39;00m\n\u001b[0;32m   4758\u001b[0m     \u001b[39mreturn\u001b[39;00m SeriesApply(\n\u001b[0;32m   4759\u001b[0m         \u001b[39mself\u001b[39;49m,\n\u001b[0;32m   4760\u001b[0m         func,\n\u001b[0;32m   4761\u001b[0m         convert_dtype\u001b[39m=\u001b[39;49mconvert_dtype,\n\u001b[0;32m   4762\u001b[0m         by_row\u001b[39m=\u001b[39;49mby_row,\n\u001b[0;32m   4763\u001b[0m         args\u001b[39m=\u001b[39;49margs,\n\u001b[0;32m   4764\u001b[0m         kwargs\u001b[39m=\u001b[39;49mkwargs,\n\u001b[1;32m-> 4765\u001b[0m     )\u001b[39m.\u001b[39;49mapply()\n",
      "File \u001b[1;32mc:\\Users\\gustavo.costa\\AppData\\Local\\Programs\\Python\\Python311\\Lib\\site-packages\\pandas\\core\\apply.py:1201\u001b[0m, in \u001b[0;36mSeriesApply.apply\u001b[1;34m(self)\u001b[0m\n\u001b[0;32m   1198\u001b[0m     \u001b[39mreturn\u001b[39;00m \u001b[39mself\u001b[39m\u001b[39m.\u001b[39mapply_compat()\n\u001b[0;32m   1200\u001b[0m \u001b[39m# self.func is Callable\u001b[39;00m\n\u001b[1;32m-> 1201\u001b[0m \u001b[39mreturn\u001b[39;00m \u001b[39mself\u001b[39;49m\u001b[39m.\u001b[39;49mapply_standard()\n",
      "File \u001b[1;32mc:\\Users\\gustavo.costa\\AppData\\Local\\Programs\\Python\\Python311\\Lib\\site-packages\\pandas\\core\\apply.py:1281\u001b[0m, in \u001b[0;36mSeriesApply.apply_standard\u001b[1;34m(self)\u001b[0m\n\u001b[0;32m   1275\u001b[0m \u001b[39m# row-wise access\u001b[39;00m\n\u001b[0;32m   1276\u001b[0m \u001b[39m# apply doesn't have a `na_action` keyword and for backward compat reasons\u001b[39;00m\n\u001b[0;32m   1277\u001b[0m \u001b[39m# we need to give `na_action=\"ignore\"` for categorical data.\u001b[39;00m\n\u001b[0;32m   1278\u001b[0m \u001b[39m# TODO: remove the `na_action=\"ignore\"` when that default has been changed in\u001b[39;00m\n\u001b[0;32m   1279\u001b[0m \u001b[39m#  Categorical (GH51645).\u001b[39;00m\n\u001b[0;32m   1280\u001b[0m action \u001b[39m=\u001b[39m \u001b[39m\"\u001b[39m\u001b[39mignore\u001b[39m\u001b[39m\"\u001b[39m \u001b[39mif\u001b[39;00m \u001b[39misinstance\u001b[39m(obj\u001b[39m.\u001b[39mdtype, CategoricalDtype) \u001b[39melse\u001b[39;00m \u001b[39mNone\u001b[39;00m\n\u001b[1;32m-> 1281\u001b[0m mapped \u001b[39m=\u001b[39m obj\u001b[39m.\u001b[39;49m_map_values(\n\u001b[0;32m   1282\u001b[0m     mapper\u001b[39m=\u001b[39;49mcurried, na_action\u001b[39m=\u001b[39;49maction, convert\u001b[39m=\u001b[39;49m\u001b[39mself\u001b[39;49m\u001b[39m.\u001b[39;49mconvert_dtype\n\u001b[0;32m   1283\u001b[0m )\n\u001b[0;32m   1285\u001b[0m \u001b[39mif\u001b[39;00m \u001b[39mlen\u001b[39m(mapped) \u001b[39mand\u001b[39;00m \u001b[39misinstance\u001b[39m(mapped[\u001b[39m0\u001b[39m], ABCSeries):\n\u001b[0;32m   1286\u001b[0m     warnings\u001b[39m.\u001b[39mwarn(\n\u001b[0;32m   1287\u001b[0m         \u001b[39m\"\u001b[39m\u001b[39mReturning a DataFrame from Series.apply when the supplied function \u001b[39m\u001b[39m\"\u001b[39m\n\u001b[0;32m   1288\u001b[0m         \u001b[39m\"\u001b[39m\u001b[39mreturns a Series is deprecated and will be removed in a future \u001b[39m\u001b[39m\"\u001b[39m\n\u001b[1;32m   (...)\u001b[0m\n\u001b[0;32m   1291\u001b[0m         stacklevel\u001b[39m=\u001b[39mfind_stack_level(),\n\u001b[0;32m   1292\u001b[0m     )  \u001b[39m# GH52116\u001b[39;00m\n",
      "File \u001b[1;32mc:\\Users\\gustavo.costa\\AppData\\Local\\Programs\\Python\\Python311\\Lib\\site-packages\\pandas\\core\\base.py:921\u001b[0m, in \u001b[0;36mIndexOpsMixin._map_values\u001b[1;34m(self, mapper, na_action, convert)\u001b[0m\n\u001b[0;32m    918\u001b[0m \u001b[39mif\u001b[39;00m \u001b[39misinstance\u001b[39m(arr, ExtensionArray):\n\u001b[0;32m    919\u001b[0m     \u001b[39mreturn\u001b[39;00m arr\u001b[39m.\u001b[39mmap(mapper, na_action\u001b[39m=\u001b[39mna_action)\n\u001b[1;32m--> 921\u001b[0m \u001b[39mreturn\u001b[39;00m algorithms\u001b[39m.\u001b[39;49mmap_array(arr, mapper, na_action\u001b[39m=\u001b[39;49mna_action, convert\u001b[39m=\u001b[39;49mconvert)\n",
      "File \u001b[1;32mc:\\Users\\gustavo.costa\\AppData\\Local\\Programs\\Python\\Python311\\Lib\\site-packages\\pandas\\core\\algorithms.py:1812\u001b[0m, in \u001b[0;36mmap_array\u001b[1;34m(arr, mapper, na_action, convert)\u001b[0m\n\u001b[0;32m   1810\u001b[0m values \u001b[39m=\u001b[39m arr\u001b[39m.\u001b[39mastype(\u001b[39mobject\u001b[39m, copy\u001b[39m=\u001b[39m\u001b[39mFalse\u001b[39;00m)\n\u001b[0;32m   1811\u001b[0m \u001b[39mif\u001b[39;00m na_action \u001b[39mis\u001b[39;00m \u001b[39mNone\u001b[39;00m:\n\u001b[1;32m-> 1812\u001b[0m     \u001b[39mreturn\u001b[39;00m lib\u001b[39m.\u001b[39;49mmap_infer(values, mapper, convert\u001b[39m=\u001b[39;49mconvert)\n\u001b[0;32m   1813\u001b[0m \u001b[39melse\u001b[39;00m:\n\u001b[0;32m   1814\u001b[0m     \u001b[39mreturn\u001b[39;00m lib\u001b[39m.\u001b[39mmap_infer_mask(\n\u001b[0;32m   1815\u001b[0m         values, mapper, mask\u001b[39m=\u001b[39misna(values)\u001b[39m.\u001b[39mview(np\u001b[39m.\u001b[39muint8), convert\u001b[39m=\u001b[39mconvert\n\u001b[0;32m   1816\u001b[0m     )\n",
      "File \u001b[1;32mlib.pyx:2917\u001b[0m, in \u001b[0;36mpandas._libs.lib.map_infer\u001b[1;34m()\u001b[0m\n",
      "\u001b[1;32mc:\\Users\\gustavo.costa\\Desktop\\Verificador\\Verificar.ipynb Cell 2\u001b[0m line \u001b[0;36m7\n\u001b[0;32m      <a href='vscode-notebook-cell:/c%3A/Users/gustavo.costa/Desktop/Verificador/Verificar.ipynb#W1sZmlsZQ%3D%3D?line=5'>6</a>\u001b[0m \u001b[39mdef\u001b[39;00m \u001b[39mconvert_rate_score\u001b[39m(value):\n\u001b[1;32m----> <a href='vscode-notebook-cell:/c%3A/Users/gustavo.costa/Desktop/Verificador/Verificar.ipynb#W1sZmlsZQ%3D%3D?line=6'>7</a>\u001b[0m     value \u001b[39m=\u001b[39m value\u001b[39m.\u001b[39;49mreplace(\u001b[39m'\u001b[39m\u001b[39m.\u001b[39m\u001b[39m'\u001b[39m, \u001b[39m'\u001b[39m\u001b[39m'\u001b[39m)\u001b[39m.\u001b[39mreplace(\u001b[39m'\u001b[39m\u001b[39m,\u001b[39m\u001b[39m'\u001b[39m, \u001b[39m'\u001b[39m\u001b[39m.\u001b[39m\u001b[39m'\u001b[39m)\n\u001b[0;32m      <a href='vscode-notebook-cell:/c%3A/Users/gustavo.costa/Desktop/Verificador/Verificar.ipynb#W1sZmlsZQ%3D%3D?line=7'>8</a>\u001b[0m     \u001b[39mreturn\u001b[39;00m \u001b[39mfloat\u001b[39m(value)\n",
      "\u001b[1;31mAttributeError\u001b[0m: 'float' object has no attribute 'replace'"
     ]
    }
   ],
   "source": [
    "import pandas as pd\n",
    "\n",
    "# Carregue o arquivo CSV em um DataFrame\n",
    "df = pd.read_csv('X:\\\\ARQUIVOS\\\\3810-GTSS\\\\Relatorios Viasat\\\\2023-ago\\\\SGDCPerformanceDownload20230801.csv')\n",
    "# Função para converter strings no formato 'xx.xxx.xxx,xx' em float\n",
    "def convert_rate_score(value):\n",
    "    value = value.replace('.', '').replace(',', '.')\n",
    "    return float(value)\n",
    "\n",
    "# Aplicar a função à coluna rate_score\n",
    "df['rate_score'] = df['rate_score'].apply(convert_rate_score)\n",
    "\n",
    "# Filtrar as linhas com rate_score maior que 12,999999\n",
    "result = df[df['rate_score'] > 12.999999]\n",
    "\n",
    "# Exibir os valores de rate_score correspondentes\n",
    "rate_scores = result['rate_score'].tolist()\n",
    "print(rate_scores)"
   ]
  }
 ],
 "metadata": {
  "kernelspec": {
   "display_name": "Python 3",
   "language": "python",
   "name": "python3"
  },
  "language_info": {
   "codemirror_mode": {
    "name": "ipython",
    "version": 3
   },
   "file_extension": ".py",
   "mimetype": "text/x-python",
   "name": "python",
   "nbconvert_exporter": "python",
   "pygments_lexer": "ipython3",
   "version": "3.11.4"
  },
  "orig_nbformat": 4
 },
 "nbformat": 4,
 "nbformat_minor": 2
}
